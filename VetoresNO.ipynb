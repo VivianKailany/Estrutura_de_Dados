{
  "nbformat": 4,
  "nbformat_minor": 0,
  "metadata": {
    "colab": {
      "provenance": [],
      "authorship_tag": "ABX9TyP4VWFtH/MjWKCcRo3OUMGa",
      "include_colab_link": true
    },
    "kernelspec": {
      "name": "python3",
      "display_name": "Python 3"
    },
    "language_info": {
      "name": "python"
    }
  },
  "cells": [
    {
      "cell_type": "markdown",
      "metadata": {
        "id": "view-in-github",
        "colab_type": "text"
      },
      "source": [
        "<a href=\"https://colab.research.google.com/github/VivianKailany/Estrutura_de_Dados/blob/main/VetoresNO.ipynb\" target=\"_parent\"><img src=\"https://colab.research.google.com/assets/colab-badge.svg\" alt=\"Open In Colab\"/></a>"
      ]
    },
    {
      "cell_type": "markdown",
      "source": [
        "VETOR NÃO ORDENADO"
      ],
      "metadata": {
        "id": "H9S8eOyhGjqW"
      }
    },
    {
      "cell_type": "code",
      "execution_count": null,
      "metadata": {
        "id": "j2XA7KETDWly"
      },
      "outputs": [],
      "source": [
        " import numpy as np"
      ]
    },
    {
      "cell_type": "code",
      "source": [
        "class VetorNO:\n",
        "  def __init__(self,capacidade):\n",
        "    self.capacidade=capacidade\n",
        "    self.ultimaposicao=-1\n",
        "    self.valores=[None]*capacidade\n",
        "\n",
        "  def imprime(self):\n",
        "    if self.ultimaposicao==-1:\n",
        "      print(\"O vetor esta vazio\")\n",
        "    else:\n",
        "      for i in range (self.ultimaposicao + 1):\n",
        "        print(i,'-', self.valores[i])\n",
        "\n",
        "  def adicionar(self,valor):\n",
        "    if self.ultimaposicao==self.capacidade-1:\n",
        "      print('Capacidae máxima')\n",
        "    else:\n",
        "      self.ultimaposicao+=1\n",
        "      self.valores[self.ultimaposicao]=valor\n",
        "\n",
        "  def pesquisar(self,busca):\n",
        "    if self.ultimaposicao==-1:\n",
        "      print('Vazio')\n",
        "    else:\n",
        "      for i in range (len(self.valores)):\n",
        "        if self.valores[i] == busca:\n",
        "          print(busca, ' - existe')\n",
        "        if (i+1 == len(self.valores) and busca!=self.valores[i]):\n",
        "          print('Esse valor nao existe')\n",
        "\n",
        "  def remove(self,removido):\n",
        "    if self.ultimaposicao==-1:\n",
        "      print(\"Vazio\")\n",
        "    else:\n",
        "      for i in range(len(self.valores)):\n",
        "        while self.valores:\n",
        "          if self.valores[i]==removido:\n",
        "            self.valores[i]==self.valores[i+1]\n",
        "          else:\n",
        "            print('esse numero nao existe')\n"
      ],
      "metadata": {
        "id": "hmlXOAkmGqD9"
      },
      "execution_count": 3,
      "outputs": []
    },
    {
      "cell_type": "code",
      "source": [
        "V = VetorNO(5)"
      ],
      "metadata": {
        "id": "gzJ3-1WZGqGO"
      },
      "execution_count": 4,
      "outputs": []
    },
    {
      "cell_type": "code",
      "source": [
        "V.imprime()"
      ],
      "metadata": {
        "colab": {
          "base_uri": "https://localhost:8080/"
        },
        "id": "tuP6GLgQGqK1",
        "outputId": "7cccc884-712a-4e30-c3ab-d89d661d7511"
      },
      "execution_count": 5,
      "outputs": [
        {
          "output_type": "stream",
          "name": "stdout",
          "text": [
            "O vetor esta vazio\n"
          ]
        }
      ]
    },
    {
      "cell_type": "code",
      "source": [
        "V.adicionar(1)"
      ],
      "metadata": {
        "id": "NNL7yVKiI4fP"
      },
      "execution_count": 6,
      "outputs": []
    },
    {
      "cell_type": "code",
      "source": [
        "V.adicionar(2)"
      ],
      "metadata": {
        "id": "HhJA8pEsJXzn"
      },
      "execution_count": 7,
      "outputs": []
    },
    {
      "cell_type": "code",
      "source": [
        "V.imprime()"
      ],
      "metadata": {
        "colab": {
          "base_uri": "https://localhost:8080/"
        },
        "id": "G5ekx_nPSNsz",
        "outputId": "5015892f-2a97-4020-97bf-6f7217c7276d"
      },
      "execution_count": 8,
      "outputs": [
        {
          "output_type": "stream",
          "name": "stdout",
          "text": [
            "0 - 1\n",
            "1 - 2\n"
          ]
        }
      ]
    },
    {
      "cell_type": "code",
      "source": [],
      "metadata": {
        "id": "CJgQwiOxSQJT"
      },
      "execution_count": 8,
      "outputs": []
    },
    {
      "cell_type": "code",
      "source": [],
      "metadata": {
        "id": "ydWAAMzGSSqi"
      },
      "execution_count": null,
      "outputs": []
    }
  ]
}