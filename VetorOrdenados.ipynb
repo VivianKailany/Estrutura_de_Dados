{
  "nbformat": 4,
  "nbformat_minor": 0,
  "metadata": {
    "colab": {
      "provenance": [],
      "authorship_tag": "ABX9TyP7rbXVBu2Umy1fyqSFRkHA",
      "include_colab_link": true
    },
    "kernelspec": {
      "name": "python3",
      "display_name": "Python 3"
    },
    "language_info": {
      "name": "python"
    }
  },
  "cells": [
    {
      "cell_type": "markdown",
      "metadata": {
        "id": "view-in-github",
        "colab_type": "text"
      },
      "source": [
        "<a href=\"https://colab.research.google.com/github/VivianKailany/Estrutura_de_Dados/blob/main/VetorOrdenados.ipynb\" target=\"_parent\"><img src=\"https://colab.research.google.com/assets/colab-badge.svg\" alt=\"Open In Colab\"/></a>"
      ]
    },
    {
      "cell_type": "code",
      "execution_count": 115,
      "metadata": {
        "id": "IJ9A4vSXesUQ"
      },
      "outputs": [],
      "source": [
        "class VetorOrdenado:\n",
        "  def __init__ (self, capacidade):\n",
        "    self.capacidade= capacidade\n",
        "    self.ultimap = -1\n",
        "    self.valores= [None]* capacidade\n",
        "\n",
        "  def imprime (self):\n",
        "    if self.ultimap == -1:\n",
        "      print(' Vetor Vazio ')\n",
        "    else:\n",
        "      for i in range (self.ultimap+1):\n",
        "        print(i,'-',self.valores[i])\n",
        "\n",
        "  def inserir(self,valor):\n",
        "    if self.capacidade == self.ultimap+1:\n",
        "      print('Capacidade maxima')\n",
        "    else:\n",
        "      posicao=0\n",
        "      for i in range (self.ultimap+1):\n",
        "        if (valor>self.valores[i]):\n",
        "          posicao=i+1\n",
        "          continue\n",
        "        break\n",
        "      for j in range(self.ultimap+1,posicao-1,-1):\n",
        "        self.valores[j]=self.valores[j-1]\n",
        "      self.valores[posicao]=valor\n",
        "      self.ultimap+=1\n",
        "\n",
        "  def remover(self,valor):\n",
        "      posicao=0\n",
        "      for i in range (self.ultimap+1):\n",
        "        if (valor==self.valores[i]):\n",
        "          self.valores[i]=self.valores[i+1]\n",
        "      self.ultimap-=1\n",
        "\n",
        "  def pesquisaLinear(self,valor):\n",
        "    for i in range (self.ultimap+1):\n",
        "        if (valor==self.valores[i]):\n",
        "          print('numero', valor,' existe')\n",
        "\n",
        "  def buscaBinaria(self,valor):\n",
        "    limitemin=0\n",
        "    limitemax=self.ultimap\n",
        "\n",
        "    while True:\n",
        "      posicao_atual=int((limitemin+limitemax)/2)\n",
        "      if self.valores[posicao_atual]==valor:\n",
        "        return posicao_atual\n",
        "      elif limitemin>limitemax:\n",
        "        return-1\n",
        "      else:\n",
        "        if self.valores[posicao_atual]<valor:\n",
        "          limitemin+=1\n",
        "        elif self.valores[posicao_atual]>valor:\n",
        "          limitemax-=1"
      ]
    },
    {
      "cell_type": "code",
      "source": [
        "\n",
        "v=VetorOrdenado(5)"
      ],
      "metadata": {
        "id": "6HNixAwaoIvG"
      },
      "execution_count": 116,
      "outputs": []
    },
    {
      "cell_type": "code",
      "source": [
        "v.imprime()"
      ],
      "metadata": {
        "id": "HiQCg3cvojkS",
        "outputId": "48c66fb6-c237-4db5-b2f3-fa200f7f0041",
        "colab": {
          "base_uri": "https://localhost:8080/"
        }
      },
      "execution_count": 117,
      "outputs": [
        {
          "output_type": "stream",
          "name": "stdout",
          "text": [
            " Vetor Vazio \n"
          ]
        }
      ]
    },
    {
      "cell_type": "code",
      "source": [
        "v.inserir(1)"
      ],
      "metadata": {
        "id": "wfLTVW24omKi"
      },
      "execution_count": 118,
      "outputs": []
    },
    {
      "cell_type": "code",
      "source": [
        "v.imprime()"
      ],
      "metadata": {
        "id": "187-91XOosPc",
        "outputId": "572c31c1-9f73-4409-d6fe-36542ce48e62",
        "colab": {
          "base_uri": "https://localhost:8080/"
        }
      },
      "execution_count": 119,
      "outputs": [
        {
          "output_type": "stream",
          "name": "stdout",
          "text": [
            "0 - 1\n"
          ]
        }
      ]
    },
    {
      "cell_type": "code",
      "source": [
        "v.inserir(2)"
      ],
      "metadata": {
        "id": "AWB7zcT0pJ1J"
      },
      "execution_count": 120,
      "outputs": []
    },
    {
      "cell_type": "code",
      "source": [
        "v.imprime()"
      ],
      "metadata": {
        "id": "W6te5YIaYLDe",
        "colab": {
          "base_uri": "https://localhost:8080/"
        },
        "outputId": "ea25f57a-d84a-40ff-d611-bd257acd9407"
      },
      "execution_count": 121,
      "outputs": [
        {
          "output_type": "stream",
          "name": "stdout",
          "text": [
            "0 - 1\n",
            "1 - 2\n"
          ]
        }
      ]
    },
    {
      "cell_type": "code",
      "source": [
        "v.buscaBinaria(2)"
      ],
      "metadata": {
        "id": "7NJG5anFcfIQ",
        "colab": {
          "base_uri": "https://localhost:8080/"
        },
        "outputId": "d825bd80-c244-4442-d319-40c11a0d020b"
      },
      "execution_count": 122,
      "outputs": [
        {
          "output_type": "execute_result",
          "data": {
            "text/plain": [
              "1"
            ]
          },
          "metadata": {},
          "execution_count": 122
        }
      ]
    },
    {
      "cell_type": "code",
      "source": [
        "v.imprime()"
      ],
      "metadata": {
        "colab": {
          "base_uri": "https://localhost:8080/"
        },
        "id": "iUlBldvpdqRS",
        "outputId": "3c8e526c-153f-4e62-f122-1c6e27736d83"
      },
      "execution_count": 123,
      "outputs": [
        {
          "output_type": "stream",
          "name": "stdout",
          "text": [
            "0 - 1\n",
            "1 - 2\n"
          ]
        }
      ]
    },
    {
      "cell_type": "code",
      "source": [
        "v.pesquisa(1)"
      ],
      "metadata": {
        "colab": {
          "base_uri": "https://localhost:8080/"
        },
        "id": "mUSom6-gdxt6",
        "outputId": "061ddb12-19e2-4ffc-b557-425be82fa217"
      },
      "execution_count": 98,
      "outputs": [
        {
          "output_type": "stream",
          "name": "stdout",
          "text": [
            "numero 1  existe\n"
          ]
        }
      ]
    },
    {
      "cell_type": "code",
      "source": [],
      "metadata": {
        "id": "PpdALXzGkcU_"
      },
      "execution_count": null,
      "outputs": []
    }
  ]
}