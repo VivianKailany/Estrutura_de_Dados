{
  "nbformat": 4,
  "nbformat_minor": 0,
  "metadata": {
    "colab": {
      "provenance": [],
      "authorship_tag": "ABX9TyOHGO7jgqWTLQdfbtvoWg6D",
      "include_colab_link": true
    },
    "kernelspec": {
      "name": "python3",
      "display_name": "Python 3"
    },
    "language_info": {
      "name": "python"
    }
  },
  "cells": [
    {
      "cell_type": "markdown",
      "metadata": {
        "id": "view-in-github",
        "colab_type": "text"
      },
      "source": [
        "<a href=\"https://colab.research.google.com/github/VivianKailany/Estrutura_de_Dados/blob/main/Fila.ipynb\" target=\"_parent\"><img src=\"https://colab.research.google.com/assets/colab-badge.svg\" alt=\"Open In Colab\"/></a>"
      ]
    },
    {
      "cell_type": "code",
      "execution_count": 4,
      "metadata": {
        "id": "6ZnZOG6A756F"
      },
      "outputs": [],
      "source": [
        "class Node:\n",
        "    def __init__(self, data=None, proximo=None):\n",
        "        self.data = data\n",
        "        self.proximo = proximo\n",
        "\n",
        "class Fila:\n",
        "    def __init__(self, cabeca=None):\n",
        "        self.cabeca = cabeca\n",
        "        self.ultimo = None\n",
        "\n",
        "\n",
        "    def enfileirar(self, valor):\n",
        "      novo_no = Node(valor)\n",
        "      if self.cabeca is None:\n",
        "        self.cabeca = novo_no\n",
        "        self.ultimo = novo_no\n",
        "      else:\n",
        "        self.ultimo.proximo = novo_no\n",
        "        self.ultimo = novo_no\n",
        "\n",
        "    def desenfileirar(self):\n",
        "        if self.cabeca is None:\n",
        "            print(\"Fila vazia\")\n",
        "        else:\n",
        "            self.cabeca = self.cabeca.proximo\n",
        "\n",
        "\n",
        "    def imprimir(self):\n",
        "        atual = self.cabeca\n",
        "        while atual:\n",
        "            print(atual.data)\n",
        "            atual = atual.proximo\n"
      ]
    },
    {
      "cell_type": "code",
      "source": [
        "v=Fila()"
      ],
      "metadata": {
        "id": "Iun0qJq2_8rF"
      },
      "execution_count": 5,
      "outputs": []
    },
    {
      "cell_type": "code",
      "source": [
        "v.enfileirar(1)\n",
        "v.enfileirar(3)\n",
        "v.enfileirar(2)\n",
        "v.enfileirar(4)"
      ],
      "metadata": {
        "id": "Fq8I1SEXAB1M"
      },
      "execution_count": 6,
      "outputs": []
    },
    {
      "cell_type": "code",
      "source": [
        "v.imprimir()"
      ],
      "metadata": {
        "colab": {
          "base_uri": "https://localhost:8080/"
        },
        "id": "305eYSX_AEwF",
        "outputId": "f4e33fe8-6a7d-45b8-b80d-eec5b69c48d5"
      },
      "execution_count": 7,
      "outputs": [
        {
          "output_type": "stream",
          "name": "stdout",
          "text": [
            "1\n",
            "3\n",
            "2\n",
            "4\n"
          ]
        }
      ]
    },
    {
      "cell_type": "code",
      "source": [
        "v.desenfileirar()"
      ],
      "metadata": {
        "id": "MqyTqBwlAShW"
      },
      "execution_count": 8,
      "outputs": []
    },
    {
      "cell_type": "code",
      "source": [
        "v.imprimir()"
      ],
      "metadata": {
        "colab": {
          "base_uri": "https://localhost:8080/"
        },
        "id": "mwPjsBJ4DkHM",
        "outputId": "b4b2c6d4-13d7-40a9-b88b-69496bf26f2d"
      },
      "execution_count": 9,
      "outputs": [
        {
          "output_type": "stream",
          "name": "stdout",
          "text": [
            "3\n",
            "2\n",
            "4\n"
          ]
        }
      ]
    },
    {
      "cell_type": "code",
      "source": [
        "\n",
        "v.enfileirar(1)"
      ],
      "metadata": {
        "id": "bmV5rRAjDmu0"
      },
      "execution_count": 10,
      "outputs": []
    },
    {
      "cell_type": "code",
      "source": [
        "v.imprimir()"
      ],
      "metadata": {
        "colab": {
          "base_uri": "https://localhost:8080/"
        },
        "id": "Dyp8QRLwDpFd",
        "outputId": "9ab61b24-eb4a-4e49-fac7-c3187ac7f17b"
      },
      "execution_count": 11,
      "outputs": [
        {
          "output_type": "stream",
          "name": "stdout",
          "text": [
            "3\n",
            "2\n",
            "4\n",
            "1\n"
          ]
        }
      ]
    },
    {
      "cell_type": "code",
      "source": [],
      "metadata": {
        "id": "u5amsZ71Dqdu"
      },
      "execution_count": null,
      "outputs": []
    }
  ]
}