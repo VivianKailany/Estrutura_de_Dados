{
  "nbformat": 4,
  "nbformat_minor": 0,
  "metadata": {
    "colab": {
      "provenance": [],
      "authorship_tag": "ABX9TyM43QGWsNoannsvXZRxLYvm",
      "include_colab_link": true
    },
    "kernelspec": {
      "name": "python3",
      "display_name": "Python 3"
    },
    "language_info": {
      "name": "python"
    }
  },
  "cells": [
    {
      "cell_type": "markdown",
      "metadata": {
        "id": "view-in-github",
        "colab_type": "text"
      },
      "source": [
        "<a href=\"https://colab.research.google.com/github/VivianKailany/Estrutura_de_Dados/blob/main/Validor_de_Expressoes_pilha.ipynb\" target=\"_parent\"><img src=\"https://colab.research.google.com/assets/colab-badge.svg\" alt=\"Open In Colab\"/></a>"
      ]
    },
    {
      "cell_type": "code",
      "execution_count": 58,
      "metadata": {
        "id": "0Jnzw9gUjsVs"
      },
      "outputs": [],
      "source": [
        "class Node:\n",
        "  def __init__(self,data=None, proximo=None):\n",
        "    self.data=data\n",
        "    self.proximo=proximo\n",
        "\n",
        "class Pilha:\n",
        "  def __init__(self,capacidade):\n",
        "    self.capacidade=capacidade\n",
        "    self.top=None\n",
        "    self.tamanho=-1\n",
        "  def vazio(self):\n",
        "    if self.tamanho==-1:\n",
        "      return True\n",
        "    return False\n",
        "\n",
        "  def cheio(self):\n",
        "    if self.capacidade==self.tamanho+1:\n",
        "      return True\n",
        "    return False\n",
        "\n",
        "  def empilhar(self,valor):\n",
        "    if self.cheio():\n",
        "      print(\"Vetor cheio\")\n",
        "    else:\n",
        "      self.top=Node(valor,self.top)\n",
        "      self.tamanho+=1\n",
        "\n",
        "  def desempilhar(self):\n",
        "    if self.vazio():\n",
        "      print('Pilha Vazia')\n",
        "    else:\n",
        "      top=self.top.data\n",
        "      self.top=self.top.proximo\n",
        "      self.tamanho-=1\n",
        "      return top\n",
        "\n",
        "\n",
        "  def imprimir(self):\n",
        "    atual=self.top\n",
        "    while atual:\n",
        "      print(atual.data)\n",
        "      atual=atual.proximo\n",
        "\n",
        "\n",
        "\n",
        "  def expressao(self, valor):\n",
        "    pilha_temp = Pilha(len(valor))\n",
        "    for char in valor:\n",
        "      if char in '{([':\n",
        "        pilha_temp.empilhar(char)\n",
        "      elif char in '])}':\n",
        "        if pilha_temp.vazio() or not correspondente(pilha_temp.desempilhar(), char):\n",
        "          return False\n",
        "\n",
        "    return pilha_temp.vazio()\n",
        "\n",
        "def correspondente(aberto, fechado):\n",
        "    if (aberto == '{' and fechado == '}') or \\\n",
        "        (aberto == '[' and fechado == ']') or \\\n",
        "        (aberto == '(' and fechado == ')'):\n",
        "          return True\n",
        "    else:\n",
        "          return False"
      ]
    },
    {
      "cell_type": "code",
      "source": [
        "# Exemplo de uso:\n",
        "p = Pilha(10)\n",
        "expressao_valida = p.expressao(\"{a[b(c}d]}\")\n",
        "\n",
        "if expressao_valida:\n",
        "    print(\"Expressão válida\")\n",
        "else:\n",
        "    print(\"Expressão inválida\")"
      ],
      "metadata": {
        "colab": {
          "base_uri": "https://localhost:8080/"
        },
        "id": "sWOXxjCataKh",
        "outputId": "2c981a12-d31b-4498-8c11-d5e20d329ec1"
      },
      "execution_count": 60,
      "outputs": [
        {
          "output_type": "stream",
          "name": "stdout",
          "text": [
            "Expressão inválida\n"
          ]
        }
      ]
    },
    {
      "cell_type": "code",
      "source": [],
      "metadata": {
        "id": "bBCrYa2gtpx4"
      },
      "execution_count": null,
      "outputs": []
    },
    {
      "cell_type": "code",
      "source": [
        "v=Pilha(5)"
      ],
      "metadata": {
        "id": "jhBkb3yZn5VR"
      },
      "execution_count": 52,
      "outputs": []
    },
    {
      "cell_type": "code",
      "source": [
        "v.empilhar(1)\n",
        "v.empilhar(2)\n",
        "v.empilhar(3)\n",
        "v.empilhar(4)\n",
        "v.empilhar(5)\n"
      ],
      "metadata": {
        "id": "QLUUlbAIoTxe"
      },
      "execution_count": 53,
      "outputs": []
    },
    {
      "cell_type": "code",
      "source": [
        "v.imprimir()"
      ],
      "metadata": {
        "colab": {
          "base_uri": "https://localhost:8080/"
        },
        "id": "0Je5CnVOoX3d",
        "outputId": "cb5403f1-889a-4f3f-fa48-eaa6ac55f004"
      },
      "execution_count": 54,
      "outputs": [
        {
          "output_type": "stream",
          "name": "stdout",
          "text": [
            "5\n",
            "4\n",
            "3\n",
            "2\n",
            "1\n"
          ]
        }
      ]
    },
    {
      "cell_type": "code",
      "source": [
        "v.desempilhar()"
      ],
      "metadata": {
        "colab": {
          "base_uri": "https://localhost:8080/"
        },
        "id": "HSf-rvZ9plr4",
        "outputId": "0cd56434-631a-46b4-85ff-7d68501d50ec"
      },
      "execution_count": 55,
      "outputs": [
        {
          "output_type": "execute_result",
          "data": {
            "text/plain": [
              "5"
            ]
          },
          "metadata": {},
          "execution_count": 55
        }
      ]
    },
    {
      "cell_type": "code",
      "source": [
        "v.imprimir()"
      ],
      "metadata": {
        "colab": {
          "base_uri": "https://localhost:8080/"
        },
        "id": "QHMXb166qlkB",
        "outputId": "aa6a6980-bf34-4dd3-f8d3-89a63cb6f812"
      },
      "execution_count": 56,
      "outputs": [
        {
          "output_type": "stream",
          "name": "stdout",
          "text": [
            "4\n",
            "3\n",
            "2\n",
            "1\n"
          ]
        }
      ]
    },
    {
      "cell_type": "code",
      "source": [],
      "metadata": {
        "id": "nhNA4GEKq4i8"
      },
      "execution_count": null,
      "outputs": []
    }
  ]
}