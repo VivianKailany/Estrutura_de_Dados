{
  "nbformat": 4,
  "nbformat_minor": 0,
  "metadata": {
    "colab": {
      "provenance": [],
      "authorship_tag": "ABX9TyOrEqUqC3op3+yjbwh/hbdN",
      "include_colab_link": true
    },
    "kernelspec": {
      "name": "python3",
      "display_name": "Python 3"
    },
    "language_info": {
      "name": "python"
    }
  },
  "cells": [
    {
      "cell_type": "markdown",
      "metadata": {
        "id": "view-in-github",
        "colab_type": "text"
      },
      "source": [
        "<a href=\"https://colab.research.google.com/github/VivianKailany/Estrutura_de_Dados/blob/main/Validor_de_Expressoes_pilha.ipynb\" target=\"_parent\"><img src=\"https://colab.research.google.com/assets/colab-badge.svg\" alt=\"Open In Colab\"/></a>"
      ]
    },
    {
      "cell_type": "code",
      "execution_count": 9,
      "metadata": {
        "id": "0Jnzw9gUjsVs"
      },
      "outputs": [],
      "source": [
        "class Node:\n",
        "  def __init__(self,data=None, proximo=None):\n",
        "    self.data=data\n",
        "    self.proximo=proximo\n",
        "\n",
        "class Pilha:\n",
        "  def __init__(self,top=None):\n",
        "    self.top=top\n",
        "\n",
        "  def empilhar(self,valor):\n",
        "      self.top=Node(valor,self.top)\n",
        "\n",
        "  def desempilhar(self):\n",
        "    if self.top is None:\n",
        "      print('Pilha Vazia')\n",
        "    else:\n",
        "      top=self.top.data\n",
        "      self.top=self.top.proximo\n",
        "      return top\n",
        "\n",
        "\n",
        "  def imprimir(self):\n",
        "    atual=self.top\n",
        "    while atual:\n",
        "      print(atual.data)\n",
        "      atual=atual.proximo\n",
        "\n",
        "\n",
        "  def expressao(self, valor):\n",
        "    pilha_temp = Pilha()\n",
        "    for char in valor:\n",
        "      if char in '{([':\n",
        "        pilha_temp.empilhar(char)\n",
        "      elif char in '])}':\n",
        "        if pilha_temp.top is None or not correspondente(pilha_temp.desempilhar(), char):\n",
        "          return False\n",
        "\n",
        "    return pilha_temp.top is None\n",
        "\n",
        "\n",
        "def correspondente(aberto, fechado):\n",
        "    if (aberto == '{' and fechado == '}') or \\\n",
        "        (aberto == '[' and fechado == ']') or \\\n",
        "        (aberto == '(' and fechado == ')'):\n",
        "          return True\n",
        "    else:\n",
        "          return False"
      ]
    },
    {
      "cell_type": "code",
      "source": [
        "# Exemplo de uso:\n",
        "p = Pilha()\n",
        "expressao_valida = p.expressao(\"{a[b(c)d]}\")\n",
        "\n",
        "if expressao_valida:\n",
        "    print(\"Expressão válida\")\n",
        "else:\n",
        "    print(\"Expressão inválida\")"
      ],
      "metadata": {
        "colab": {
          "base_uri": "https://localhost:8080/"
        },
        "id": "sWOXxjCataKh",
        "outputId": "909c205c-3a6e-471b-cbc0-f38306266a26"
      },
      "execution_count": 10,
      "outputs": [
        {
          "output_type": "stream",
          "name": "stdout",
          "text": [
            "Expressão válida\n"
          ]
        }
      ]
    },
    {
      "cell_type": "code",
      "source": [],
      "metadata": {
        "id": "nhNA4GEKq4i8"
      },
      "execution_count": null,
      "outputs": []
    }
  ]
}