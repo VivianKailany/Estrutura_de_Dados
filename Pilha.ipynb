{
  "nbformat": 4,
  "nbformat_minor": 0,
  "metadata": {
    "colab": {
      "provenance": [],
      "authorship_tag": "ABX9TyNVMLsB6J9xftoowb8V1UpO",
      "include_colab_link": true
    },
    "kernelspec": {
      "name": "python3",
      "display_name": "Python 3"
    },
    "language_info": {
      "name": "python"
    }
  },
  "cells": [
    {
      "cell_type": "markdown",
      "metadata": {
        "id": "view-in-github",
        "colab_type": "text"
      },
      "source": [
        "<a href=\"https://colab.research.google.com/github/VivianKailany/Estrutura_de_Dados/blob/main/Pilha.ipynb\" target=\"_parent\"><img src=\"https://colab.research.google.com/assets/colab-badge.svg\" alt=\"Open In Colab\"/></a>"
      ]
    },
    {
      "cell_type": "code",
      "execution_count": 2,
      "metadata": {
        "id": "ocFkD8dix2Zg"
      },
      "outputs": [],
      "source": [
        "class Node:\n",
        "  def __init__(self,data=None,proximo=None):\n",
        "    self.data=data\n",
        "    self.proximo=proximo\n",
        "\n",
        "class Pilha:\n",
        "  def __init__(self,capacidade):\n",
        "    self.__capacidade=capacidade\n",
        "    self.__top=None\n",
        "    self.tamanho=-1\n",
        "\n",
        "  def __pilhaCheia(self):\n",
        "    if self.tamanho+1==self.__capacidade:\n",
        "      return True\n",
        "    else:\n",
        "      return False\n",
        "\n",
        "  def __pilhaVazia(self):\n",
        "    return self.__top is None\n",
        "\n",
        "\n",
        "  def empilhar(self,valor):\n",
        "    if self.__pilhaCheia():\n",
        "      print('Pilha Cheia')\n",
        "    else:\n",
        "      self.__top=Node(valor,self.__top)\n",
        "      self.tamanho+=1\n",
        "\n",
        "  def desempilhar(self):\n",
        "    top=self.__top.data\n",
        "    if self.__pilhaVazia():\n",
        "      print('Pilha Vazia')\n",
        "    else:\n",
        "      self.__top=self.__top.proximo\n",
        "      self.tamanho-=1\n",
        "    return top\n",
        "\n",
        "  def print(self):\n",
        "    atual=self.__top\n",
        "    while atual:\n",
        "      print(atual.data)\n",
        "      atual=atual.proximo\n",
        "\n",
        "  def top(self):\n",
        "    print(self.__top.data)\n"
      ]
    },
    {
      "cell_type": "code",
      "source": [
        "v=Pilha(10)"
      ],
      "metadata": {
        "id": "Fj8eBpZ9AqNd"
      },
      "execution_count": 3,
      "outputs": []
    },
    {
      "cell_type": "code",
      "source": [],
      "metadata": {
        "id": "6x0UfZWhzQ7i"
      },
      "execution_count": 3,
      "outputs": []
    },
    {
      "cell_type": "code",
      "source": [
        "v.empilhar(1)"
      ],
      "metadata": {
        "id": "qRHj3Y3czWNg"
      },
      "execution_count": 4,
      "outputs": []
    },
    {
      "cell_type": "code",
      "source": [
        "v.print()"
      ],
      "metadata": {
        "colab": {
          "base_uri": "https://localhost:8080/"
        },
        "id": "k5HldCKr5MOn",
        "outputId": "a860c071-08cb-496c-b814-ba98b1b732ff"
      },
      "execution_count": 5,
      "outputs": [
        {
          "output_type": "stream",
          "name": "stdout",
          "text": [
            "1\n"
          ]
        }
      ]
    },
    {
      "cell_type": "code",
      "source": [
        "v.desempilhar()"
      ],
      "metadata": {
        "colab": {
          "base_uri": "https://localhost:8080/"
        },
        "id": "Plr_I5Nt5ghA",
        "outputId": "149532e5-3099-4c82-ed9e-6799a0a7e94b"
      },
      "execution_count": 6,
      "outputs": [
        {
          "output_type": "execute_result",
          "data": {
            "text/plain": [
              "1"
            ]
          },
          "metadata": {},
          "execution_count": 6
        }
      ]
    },
    {
      "cell_type": "code",
      "source": [],
      "metadata": {
        "id": "-ucnoIt07mOs"
      },
      "execution_count": null,
      "outputs": []
    }
  ]
}