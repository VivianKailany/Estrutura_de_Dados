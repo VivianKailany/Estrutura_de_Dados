{
  "nbformat": 4,
  "nbformat_minor": 0,
  "metadata": {
    "colab": {
      "provenance": [],
      "authorship_tag": "ABX9TyM+hudQS7gvIxJGzG3jy7iM",
      "include_colab_link": true
    },
    "kernelspec": {
      "name": "python3",
      "display_name": "Python 3"
    },
    "language_info": {
      "name": "python"
    }
  },
  "cells": [
    {
      "cell_type": "markdown",
      "metadata": {
        "id": "view-in-github",
        "colab_type": "text"
      },
      "source": [
        "<a href=\"https://colab.research.google.com/github/VivianKailany/Estrutura_de_Dados/blob/main/Pilha.ipynb\" target=\"_parent\"><img src=\"https://colab.research.google.com/assets/colab-badge.svg\" alt=\"Open In Colab\"/></a>"
      ]
    },
    {
      "cell_type": "code",
      "execution_count": 4,
      "metadata": {
        "id": "ocFkD8dix2Zg"
      },
      "outputs": [],
      "source": [
        "class Node:\n",
        "  def __init__(self,data=None,proximo=None):\n",
        "    self.data=data\n",
        "    self.proximo=proximo\n",
        "\n",
        "class Pilha:\n",
        "  def __init__(self, top=None):\n",
        "    self.__top=top\n",
        "\n",
        "  def empilhar(self,valor):\n",
        "      self.__top=Node(valor,self.__top)\n",
        "\n",
        "  def desempilhar(self):\n",
        "    top=self.__top.data\n",
        "    if self.top is None:\n",
        "      print('Pilha Vazia')\n",
        "    else:\n",
        "      self.__top=self.__top.proximo\n",
        "    return top\n",
        "\n",
        "  def print(self):\n",
        "    atual=self.__top\n",
        "    while atual:\n",
        "      print(atual.data)\n",
        "      atual=atual.proximo\n",
        "\n",
        "  def top(self):\n",
        "    print(self.__top.data)\n"
      ]
    },
    {
      "cell_type": "code",
      "source": [
        "v=Pilha()"
      ],
      "metadata": {
        "id": "Fj8eBpZ9AqNd"
      },
      "execution_count": 5,
      "outputs": []
    },
    {
      "cell_type": "code",
      "source": [
        "v.empilhar(1)"
      ],
      "metadata": {
        "id": "6x0UfZWhzQ7i"
      },
      "execution_count": 6,
      "outputs": []
    },
    {
      "cell_type": "code",
      "source": [
        "v.empilhar(2)"
      ],
      "metadata": {
        "id": "qRHj3Y3czWNg"
      },
      "execution_count": 7,
      "outputs": []
    },
    {
      "cell_type": "code",
      "source": [
        "v.print()"
      ],
      "metadata": {
        "colab": {
          "base_uri": "https://localhost:8080/"
        },
        "id": "k5HldCKr5MOn",
        "outputId": "f71bb332-be1c-4e58-f1a8-1018ca18d4e9"
      },
      "execution_count": 8,
      "outputs": [
        {
          "output_type": "stream",
          "name": "stdout",
          "text": [
            "2\n",
            "1\n"
          ]
        }
      ]
    },
    {
      "cell_type": "code",
      "source": [
        "v.desempilhar()"
      ],
      "metadata": {
        "colab": {
          "base_uri": "https://localhost:8080/"
        },
        "id": "Plr_I5Nt5ghA",
        "outputId": "81bc48a7-40a1-4552-ff24-8855d4018c77"
      },
      "execution_count": 9,
      "outputs": [
        {
          "output_type": "execute_result",
          "data": {
            "text/plain": [
              "2"
            ]
          },
          "metadata": {},
          "execution_count": 9
        }
      ]
    },
    {
      "cell_type": "code",
      "source": [
        "v.print()"
      ],
      "metadata": {
        "id": "-ucnoIt07mOs",
        "colab": {
          "base_uri": "https://localhost:8080/"
        },
        "outputId": "dce5ed20-b786-4cc7-e234-b0f333006775"
      },
      "execution_count": 10,
      "outputs": [
        {
          "output_type": "stream",
          "name": "stdout",
          "text": [
            "1\n"
          ]
        }
      ]
    },
    {
      "cell_type": "code",
      "source": [],
      "metadata": {
        "id": "xLZlyoGalwM1"
      },
      "execution_count": null,
      "outputs": []
    }
  ]
}